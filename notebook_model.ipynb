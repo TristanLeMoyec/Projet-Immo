{
 "cells": [
  {
   "cell_type": "code",
   "execution_count": 57,
   "id": "12f8adcf",
   "metadata": {},
   "outputs": [],
   "source": [
    "import pandas as pd\n",
    "import numpy as np\n",
    "from sklearn.dummy import DummyRegressor\n",
    "from sklearn.linear_model import LinearRegression\n",
    "from sklearn.metrics import r2_score, mean_squared_error\n",
    "from sklearn.model_selection import cross_validate"
   ]
  },
  {
   "cell_type": "markdown",
   "id": "949974c9",
   "metadata": {},
   "source": [
    "## Baseline model"
   ]
  },
  {
   "cell_type": "markdown",
   "id": "a516b9c3",
   "metadata": {},
   "source": [
    "### Dummy"
   ]
  },
  {
   "cell_type": "code",
   "execution_count": 3,
   "id": "e7091a7b",
   "metadata": {},
   "outputs": [],
   "source": [
    "data_baseline=pd.read_csv('data_baseline.csv')"
   ]
  },
  {
   "cell_type": "code",
   "execution_count": 4,
   "id": "3228dac2",
   "metadata": {
    "scrolled": false
   },
   "outputs": [
    {
     "data": {
      "text/html": [
       "<div>\n",
       "<style scoped>\n",
       "    .dataframe tbody tr th:only-of-type {\n",
       "        vertical-align: middle;\n",
       "    }\n",
       "\n",
       "    .dataframe tbody tr th {\n",
       "        vertical-align: top;\n",
       "    }\n",
       "\n",
       "    .dataframe thead th {\n",
       "        text-align: right;\n",
       "    }\n",
       "</style>\n",
       "<table border=\"1\" class=\"dataframe\">\n",
       "  <thead>\n",
       "    <tr style=\"text-align: right;\">\n",
       "      <th></th>\n",
       "      <th>longitude</th>\n",
       "      <th>latitude</th>\n",
       "      <th>housing_median_age</th>\n",
       "      <th>total_rooms</th>\n",
       "      <th>total_bedrooms</th>\n",
       "      <th>population</th>\n",
       "      <th>households</th>\n",
       "      <th>median_income</th>\n",
       "      <th>median_house_value</th>\n",
       "      <th>ocean_proximity</th>\n",
       "    </tr>\n",
       "  </thead>\n",
       "  <tbody>\n",
       "    <tr>\n",
       "      <th>0</th>\n",
       "      <td>-119.84</td>\n",
       "      <td>36.77</td>\n",
       "      <td>6.0</td>\n",
       "      <td>1853.0</td>\n",
       "      <td>473.0</td>\n",
       "      <td>1397.0</td>\n",
       "      <td>417.0</td>\n",
       "      <td>1.4817</td>\n",
       "      <td>72000.0</td>\n",
       "      <td>INLAND</td>\n",
       "    </tr>\n",
       "    <tr>\n",
       "      <th>1</th>\n",
       "      <td>-117.80</td>\n",
       "      <td>33.68</td>\n",
       "      <td>8.0</td>\n",
       "      <td>2032.0</td>\n",
       "      <td>349.0</td>\n",
       "      <td>862.0</td>\n",
       "      <td>340.0</td>\n",
       "      <td>6.9133</td>\n",
       "      <td>274100.0</td>\n",
       "      <td>&lt;1H OCEAN</td>\n",
       "    </tr>\n",
       "    <tr>\n",
       "      <th>2</th>\n",
       "      <td>-120.19</td>\n",
       "      <td>36.60</td>\n",
       "      <td>25.0</td>\n",
       "      <td>875.0</td>\n",
       "      <td>214.0</td>\n",
       "      <td>931.0</td>\n",
       "      <td>214.0</td>\n",
       "      <td>1.5536</td>\n",
       "      <td>58300.0</td>\n",
       "      <td>INLAND</td>\n",
       "    </tr>\n",
       "    <tr>\n",
       "      <th>3</th>\n",
       "      <td>-118.32</td>\n",
       "      <td>34.10</td>\n",
       "      <td>31.0</td>\n",
       "      <td>622.0</td>\n",
       "      <td>229.0</td>\n",
       "      <td>597.0</td>\n",
       "      <td>227.0</td>\n",
       "      <td>1.5284</td>\n",
       "      <td>200000.0</td>\n",
       "      <td>&lt;1H OCEAN</td>\n",
       "    </tr>\n",
       "    <tr>\n",
       "      <th>4</th>\n",
       "      <td>-121.23</td>\n",
       "      <td>37.79</td>\n",
       "      <td>21.0</td>\n",
       "      <td>1922.0</td>\n",
       "      <td>373.0</td>\n",
       "      <td>1130.0</td>\n",
       "      <td>372.0</td>\n",
       "      <td>4.0815</td>\n",
       "      <td>117900.0</td>\n",
       "      <td>INLAND</td>\n",
       "    </tr>\n",
       "  </tbody>\n",
       "</table>\n",
       "</div>"
      ],
      "text/plain": [
       "   longitude  latitude  housing_median_age  total_rooms  total_bedrooms  \\\n",
       "0    -119.84     36.77                 6.0       1853.0           473.0   \n",
       "1    -117.80     33.68                 8.0       2032.0           349.0   \n",
       "2    -120.19     36.60                25.0        875.0           214.0   \n",
       "3    -118.32     34.10                31.0        622.0           229.0   \n",
       "4    -121.23     37.79                21.0       1922.0           373.0   \n",
       "\n",
       "   population  households  median_income  median_house_value ocean_proximity  \n",
       "0      1397.0       417.0         1.4817             72000.0          INLAND  \n",
       "1       862.0       340.0         6.9133            274100.0       <1H OCEAN  \n",
       "2       931.0       214.0         1.5536             58300.0          INLAND  \n",
       "3       597.0       227.0         1.5284            200000.0       <1H OCEAN  \n",
       "4      1130.0       372.0         4.0815            117900.0          INLAND  "
      ]
     },
     "execution_count": 4,
     "metadata": {},
     "output_type": "execute_result"
    }
   ],
   "source": [
    "data_baseline.head()"
   ]
  },
  {
   "cell_type": "code",
   "execution_count": 50,
   "id": "f862441c",
   "metadata": {},
   "outputs": [],
   "source": [
    "X = data_baseline.drop(['median_house_value'],axis=1)\n",
    "y=data_baseline['median_house_value']"
   ]
  },
  {
   "cell_type": "code",
   "execution_count": 61,
   "id": "d1f92882",
   "metadata": {
    "scrolled": false
   },
   "outputs": [
    {
     "name": "stdout",
     "output_type": "stream",
     "text": [
      "Average R2:  -0.00031332179918077687 Average RMSE:  115262.44901589816 Average MAE: 91120.04679548813\n"
     ]
    }
   ],
   "source": [
    "dummy = DummyRegressor(strategy='mean')\n",
    "dummy.fit(X, y)\n",
    "\n",
    "scores = cross_validate(dummy, X, y, cv=5, scoring=('r2', 'neg_root_mean_squared_error','neg_mean_absolute_error'))\n",
    "\n",
    "average_r2 = scores['test_r2'].mean()\n",
    "average_rmse = -scores['test_neg_root_mean_squared_error'].mean()\n",
    "average_mae = -scores['test_neg_mean_absolute_error'].mean()\n",
    "print(\"Average R2: \", average_r2, \"Average RMSE: \", average_rmse, \"Average MAE:\", average_mae)"
   ]
  },
  {
   "cell_type": "markdown",
   "id": "fd31b457",
   "metadata": {},
   "source": [
    "### Linear Regression"
   ]
  },
  {
   "cell_type": "code",
   "execution_count": 62,
   "id": "0c8c9ee1",
   "metadata": {},
   "outputs": [],
   "source": [
    "X = data_baseline.drop(['median_house_value','ocean_proximity'],axis=1)"
   ]
  },
  {
   "cell_type": "code",
   "execution_count": 63,
   "id": "186e8ded",
   "metadata": {},
   "outputs": [
    {
     "name": "stdout",
     "output_type": "stream",
     "text": [
      "Average R2:  0.6363041307108181 Average RMSE:  69494.4332387663 Average MAE: 50700.8826433365\n"
     ]
    }
   ],
   "source": [
    "reg = LinearRegression().fit(X, y)\n",
    "\n",
    "scores = cross_validate(reg, X, y, cv=5, scoring=('r2', 'neg_root_mean_squared_error','neg_mean_absolute_error'))\n",
    "\n",
    "average_r2 = scores['test_r2'].mean()\n",
    "average_rmse = -scores['test_neg_root_mean_squared_error'].mean()\n",
    "average_mae = -scores['test_neg_mean_absolute_error'].mean()\n",
    "print(\"Average R2: \", average_r2, \"Average RMSE: \", average_rmse, \"Average MAE:\", average_mae)"
   ]
  },
  {
   "cell_type": "markdown",
   "id": "f89b79c1",
   "metadata": {},
   "source": [
    "## Iteration 1"
   ]
  },
  {
   "cell_type": "code",
   "execution_count": 64,
   "id": "0317967c",
   "metadata": {},
   "outputs": [],
   "source": [
    "data_iter1=pd.read_csv('data_iter1.csv')"
   ]
  },
  {
   "cell_type": "code",
   "execution_count": 65,
   "id": "f4dee764",
   "metadata": {},
   "outputs": [],
   "source": [
    "X = data_iter1.drop(['median_house_value'],axis=1)\n",
    "y=data_iter1['median_house_value']"
   ]
  },
  {
   "cell_type": "code",
   "execution_count": 68,
   "id": "155638f9",
   "metadata": {},
   "outputs": [
    {
     "name": "stdout",
     "output_type": "stream",
     "text": [
      "Average R2:  0.6321248967054596 Average RMSE:  69870.59689546263 Average MAE: 51151.91355804453\n"
     ]
    }
   ],
   "source": [
    "reg = LinearRegression().fit(X, y)\n",
    "\n",
    "scores = cross_validate(reg, X, y, cv=5, scoring=('r2', 'neg_root_mean_squared_error','neg_mean_absolute_error'))\n",
    "\n",
    "average_r2 = scores['test_r2'].mean()\n",
    "average_rmse = -scores['test_neg_root_mean_squared_error'].mean()\n",
    "average_mae = -scores['test_neg_mean_absolute_error'].mean()\n",
    "print(\"Average R2: \", average_r2, \"// Average RMSE: \", average_rmse, \"// Average MAE:\", average_mae)"
   ]
  },
  {
   "cell_type": "code",
   "execution_count": 69,
   "id": "2b4519fb",
   "metadata": {},
   "outputs": [],
   "source": [
    "#On remarque que le modèle a de moins bonnes performances. Il semblerait que retirer la colonne bedrooms ait impacté negativement\n",
    "#Le modèle. Il faudra donc voir une autre façon de traiter cette colonne."
   ]
  },
  {
   "cell_type": "markdown",
   "id": "90c5970c",
   "metadata": {},
   "source": [
    "## Iteration 2"
   ]
  },
  {
   "cell_type": "code",
   "execution_count": 121,
   "id": "c71d5bb6",
   "metadata": {},
   "outputs": [],
   "source": [
    "data_iter2=pd.read_csv('data_iter2.csv')"
   ]
  },
  {
   "cell_type": "code",
   "execution_count": 122,
   "id": "3dbe1742",
   "metadata": {},
   "outputs": [],
   "source": [
    "X = data_iter2.drop(['median_house_value'],axis=1)\n",
    "y=data_iter2['median_house_value']"
   ]
  },
  {
   "cell_type": "code",
   "execution_count": 123,
   "id": "33a37abb",
   "metadata": {},
   "outputs": [
    {
     "name": "stdout",
     "output_type": "stream",
     "text": [
      "Average R2:  0.6423123790933041 // Average RMSE:  68896.15761606033 // Average MAE: 50068.734467461225\n"
     ]
    }
   ],
   "source": [
    "reg = LinearRegression().fit(X, y)\n",
    "\n",
    "scores = cross_validate(reg, X, y, cv=5, scoring=('r2', 'neg_root_mean_squared_error','neg_mean_absolute_error'))\n",
    "\n",
    "average_r2 = scores['test_r2'].mean()\n",
    "average_rmse = -scores['test_neg_root_mean_squared_error'].mean()\n",
    "average_mae = -scores['test_neg_mean_absolute_error'].mean()\n",
    "print(\"Average R2: \", average_r2, \"// Average RMSE: \", average_rmse, \"// Average MAE:\", average_mae)"
   ]
  },
  {
   "cell_type": "code",
   "execution_count": 84,
   "id": "8af74d55",
   "metadata": {},
   "outputs": [],
   "source": [
    "#Le modèle gagne en performance après l'encodage de la variable qualitative"
   ]
  },
  {
   "cell_type": "markdown",
   "id": "10619750",
   "metadata": {},
   "source": [
    "## Iteration 3"
   ]
  },
  {
   "cell_type": "code",
   "execution_count": 102,
   "id": "f2cf9d9b",
   "metadata": {},
   "outputs": [],
   "source": [
    "data_iter3=pd.read_csv('data_iter3.csv')"
   ]
  },
  {
   "cell_type": "code",
   "execution_count": 103,
   "id": "6bb7761b",
   "metadata": {},
   "outputs": [],
   "source": [
    "X = data_iter3.drop(['median_house_value'],axis=1)\n",
    "y=data_iter3['median_house_value']"
   ]
  },
  {
   "cell_type": "code",
   "execution_count": 108,
   "id": "3a9b1e98",
   "metadata": {},
   "outputs": [
    {
     "name": "stdout",
     "output_type": "stream",
     "text": [
      "Average R2:  0.6421881685556471 // Average RMSE:  68907.95688603455 // Average MAE: 50106.793836737634\n"
     ]
    }
   ],
   "source": [
    "reg = LinearRegression().fit(X, y)\n",
    "\n",
    "scores = cross_validate(reg, X, y, cv=5, scoring=('r2', 'neg_root_mean_squared_error','neg_mean_absolute_error'))\n",
    "\n",
    "average_r2 = scores['test_r2'].mean()\n",
    "average_rmse = -scores['test_neg_root_mean_squared_error'].mean()\n",
    "average_mae = -scores['test_neg_mean_absolute_error'].mean()\n",
    "print(\"Average R2: \", average_r2, \"// Average RMSE: \", average_rmse, \"// Average MAE:\", average_mae)"
   ]
  },
  {
   "cell_type": "code",
   "execution_count": 107,
   "id": "01481f5c",
   "metadata": {},
   "outputs": [],
   "source": [
    "#On obtient des résultats quasi-similaires, très légèrement en dessous de l'itération précédente.\n",
    "#C'est peut-être donc une mauvaise piste"
   ]
  },
  {
   "cell_type": "markdown",
   "id": "4f9233ff",
   "metadata": {},
   "source": [
    "## Iteration 4"
   ]
  },
  {
   "cell_type": "code",
   "execution_count": 109,
   "id": "7c0f0514",
   "metadata": {},
   "outputs": [],
   "source": [
    "data_iter4=pd.read_csv('data_iter4.csv')"
   ]
  },
  {
   "cell_type": "code",
   "execution_count": 110,
   "id": "0eb72118",
   "metadata": {},
   "outputs": [],
   "source": [
    "X = data_iter4.drop(['median_house_value'],axis=1)\n",
    "y=data_iter4['median_house_value']"
   ]
  },
  {
   "cell_type": "code",
   "execution_count": 111,
   "id": "7952fa49",
   "metadata": {},
   "outputs": [
    {
     "name": "stdout",
     "output_type": "stream",
     "text": [
      "Average R2:  0.6167969157984367 // Average RMSE:  59162.231002672146 // Average MAE: 43411.20537170415\n"
     ]
    }
   ],
   "source": [
    "reg = LinearRegression().fit(X, y)\n",
    "\n",
    "scores = cross_validate(reg, X, y, cv=5, scoring=('r2', 'neg_root_mean_squared_error','neg_mean_absolute_error'))\n",
    "\n",
    "average_r2 = scores['test_r2'].mean()\n",
    "average_rmse = -scores['test_neg_root_mean_squared_error'].mean()\n",
    "average_mae = -scores['test_neg_mean_absolute_error'].mean()\n",
    "print(\"Average R2: \", average_r2, \"// Average RMSE: \", average_rmse, \"// Average MAE:\", average_mae)"
   ]
  },
  {
   "cell_type": "code",
   "execution_count": 107,
   "id": "68373876",
   "metadata": {},
   "outputs": [],
   "source": [
    "#On obtient des résultats bien différents. Le R2 a beaucoup diminué, ce qui est une mauvaise nouvelle,\n",
    "#Mais les RMSE et MAE ont beaucoup diminué, ce qui ets positif. On peut dire qu'avec cette modification, \n",
    "#notre modèle fais plus d'erreurs, mais fait des erreurs moins grandes.\n",
    "\n",
    "#C'est donc un résultat assez encourageant. Peut-être qu'en trouvant une autre façon de traiter ces outliers, on pourrait\n",
    "#améliorer toutes nos métriques"
   ]
  },
  {
   "cell_type": "code",
   "execution_count": null,
   "id": "960ff2de",
   "metadata": {},
   "outputs": [],
   "source": []
  },
  {
   "cell_type": "code",
   "execution_count": null,
   "id": "3f330729",
   "metadata": {},
   "outputs": [],
   "source": []
  }
 ],
 "metadata": {
  "kernelspec": {
   "display_name": "Python 3 (ipykernel)",
   "language": "python",
   "name": "python3"
  },
  "language_info": {
   "codemirror_mode": {
    "name": "ipython",
    "version": 3
   },
   "file_extension": ".py",
   "mimetype": "text/x-python",
   "name": "python",
   "nbconvert_exporter": "python",
   "pygments_lexer": "ipython3",
   "version": "3.8.12"
  },
  "toc": {
   "base_numbering": 1,
   "nav_menu": {},
   "number_sections": true,
   "sideBar": true,
   "skip_h1_title": false,
   "title_cell": "Table of Contents",
   "title_sidebar": "Contents",
   "toc_cell": false,
   "toc_position": {},
   "toc_section_display": true,
   "toc_window_display": false
  }
 },
 "nbformat": 4,
 "nbformat_minor": 5
}
