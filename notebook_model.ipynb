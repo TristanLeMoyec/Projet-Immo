{
 "cells": [
  {
   "cell_type": "code",
   "execution_count": 147,
   "id": "12f8adcf",
   "metadata": {},
   "outputs": [],
   "source": [
    "import pandas as pd\n",
    "import numpy as np\n",
    "from sklearn.dummy import DummyRegressor\n",
    "from sklearn.linear_model import LinearRegression\n",
    "from sklearn.metrics import r2_score, mean_squared_error, mean_absolute_error\n",
    "from sklearn.model_selection import cross_validate"
   ]
  },
  {
   "cell_type": "markdown",
   "id": "949974c9",
   "metadata": {},
   "source": [
    "## Baseline model"
   ]
  },
  {
   "cell_type": "markdown",
   "id": "a516b9c3",
   "metadata": {},
   "source": [
    "### Dummy"
   ]
  },
  {
   "cell_type": "code",
   "execution_count": 3,
   "id": "e7091a7b",
   "metadata": {},
   "outputs": [],
   "source": [
    "data_baseline=pd.read_csv('data_baseline.csv')"
   ]
  },
  {
   "cell_type": "code",
   "execution_count": 4,
   "id": "3228dac2",
   "metadata": {
    "scrolled": false
   },
   "outputs": [
    {
     "data": {
      "text/html": [
       "<div>\n",
       "<style scoped>\n",
       "    .dataframe tbody tr th:only-of-type {\n",
       "        vertical-align: middle;\n",
       "    }\n",
       "\n",
       "    .dataframe tbody tr th {\n",
       "        vertical-align: top;\n",
       "    }\n",
       "\n",
       "    .dataframe thead th {\n",
       "        text-align: right;\n",
       "    }\n",
       "</style>\n",
       "<table border=\"1\" class=\"dataframe\">\n",
       "  <thead>\n",
       "    <tr style=\"text-align: right;\">\n",
       "      <th></th>\n",
       "      <th>longitude</th>\n",
       "      <th>latitude</th>\n",
       "      <th>housing_median_age</th>\n",
       "      <th>total_rooms</th>\n",
       "      <th>total_bedrooms</th>\n",
       "      <th>population</th>\n",
       "      <th>households</th>\n",
       "      <th>median_income</th>\n",
       "      <th>median_house_value</th>\n",
       "      <th>ocean_proximity</th>\n",
       "    </tr>\n",
       "  </thead>\n",
       "  <tbody>\n",
       "    <tr>\n",
       "      <th>0</th>\n",
       "      <td>-119.84</td>\n",
       "      <td>36.77</td>\n",
       "      <td>6.0</td>\n",
       "      <td>1853.0</td>\n",
       "      <td>473.0</td>\n",
       "      <td>1397.0</td>\n",
       "      <td>417.0</td>\n",
       "      <td>1.4817</td>\n",
       "      <td>72000.0</td>\n",
       "      <td>INLAND</td>\n",
       "    </tr>\n",
       "    <tr>\n",
       "      <th>1</th>\n",
       "      <td>-117.80</td>\n",
       "      <td>33.68</td>\n",
       "      <td>8.0</td>\n",
       "      <td>2032.0</td>\n",
       "      <td>349.0</td>\n",
       "      <td>862.0</td>\n",
       "      <td>340.0</td>\n",
       "      <td>6.9133</td>\n",
       "      <td>274100.0</td>\n",
       "      <td>&lt;1H OCEAN</td>\n",
       "    </tr>\n",
       "    <tr>\n",
       "      <th>2</th>\n",
       "      <td>-120.19</td>\n",
       "      <td>36.60</td>\n",
       "      <td>25.0</td>\n",
       "      <td>875.0</td>\n",
       "      <td>214.0</td>\n",
       "      <td>931.0</td>\n",
       "      <td>214.0</td>\n",
       "      <td>1.5536</td>\n",
       "      <td>58300.0</td>\n",
       "      <td>INLAND</td>\n",
       "    </tr>\n",
       "    <tr>\n",
       "      <th>3</th>\n",
       "      <td>-118.32</td>\n",
       "      <td>34.10</td>\n",
       "      <td>31.0</td>\n",
       "      <td>622.0</td>\n",
       "      <td>229.0</td>\n",
       "      <td>597.0</td>\n",
       "      <td>227.0</td>\n",
       "      <td>1.5284</td>\n",
       "      <td>200000.0</td>\n",
       "      <td>&lt;1H OCEAN</td>\n",
       "    </tr>\n",
       "    <tr>\n",
       "      <th>4</th>\n",
       "      <td>-121.23</td>\n",
       "      <td>37.79</td>\n",
       "      <td>21.0</td>\n",
       "      <td>1922.0</td>\n",
       "      <td>373.0</td>\n",
       "      <td>1130.0</td>\n",
       "      <td>372.0</td>\n",
       "      <td>4.0815</td>\n",
       "      <td>117900.0</td>\n",
       "      <td>INLAND</td>\n",
       "    </tr>\n",
       "  </tbody>\n",
       "</table>\n",
       "</div>"
      ],
      "text/plain": [
       "   longitude  latitude  housing_median_age  total_rooms  total_bedrooms  \\\n",
       "0    -119.84     36.77                 6.0       1853.0           473.0   \n",
       "1    -117.80     33.68                 8.0       2032.0           349.0   \n",
       "2    -120.19     36.60                25.0        875.0           214.0   \n",
       "3    -118.32     34.10                31.0        622.0           229.0   \n",
       "4    -121.23     37.79                21.0       1922.0           373.0   \n",
       "\n",
       "   population  households  median_income  median_house_value ocean_proximity  \n",
       "0      1397.0       417.0         1.4817             72000.0          INLAND  \n",
       "1       862.0       340.0         6.9133            274100.0       <1H OCEAN  \n",
       "2       931.0       214.0         1.5536             58300.0          INLAND  \n",
       "3       597.0       227.0         1.5284            200000.0       <1H OCEAN  \n",
       "4      1130.0       372.0         4.0815            117900.0          INLAND  "
      ]
     },
     "execution_count": 4,
     "metadata": {},
     "output_type": "execute_result"
    }
   ],
   "source": [
    "data_baseline.head()"
   ]
  },
  {
   "cell_type": "code",
   "execution_count": 50,
   "id": "f862441c",
   "metadata": {},
   "outputs": [],
   "source": [
    "X = data_baseline.drop(['median_house_value'],axis=1)\n",
    "y=data_baseline['median_house_value']"
   ]
  },
  {
   "cell_type": "code",
   "execution_count": 61,
   "id": "d1f92882",
   "metadata": {
    "scrolled": false
   },
   "outputs": [
    {
     "name": "stdout",
     "output_type": "stream",
     "text": [
      "Average R2:  -0.00031332179918077687 Average RMSE:  115262.44901589816 Average MAE: 91120.04679548813\n"
     ]
    }
   ],
   "source": [
    "dummy = DummyRegressor(strategy='mean')\n",
    "dummy.fit(X, y)\n",
    "\n",
    "scores = cross_validate(dummy, X, y, cv=5, scoring=('r2', 'neg_root_mean_squared_error','neg_mean_absolute_error'))\n",
    "\n",
    "average_r2 = scores['test_r2'].mean()\n",
    "average_rmse = -scores['test_neg_root_mean_squared_error'].mean()\n",
    "average_mae = -scores['test_neg_mean_absolute_error'].mean()\n",
    "print(\"Average R2: \", average_r2, \"Average RMSE: \", average_rmse, \"Average MAE:\", average_mae)"
   ]
  },
  {
   "cell_type": "markdown",
   "id": "fd31b457",
   "metadata": {},
   "source": [
    "### Linear Regression"
   ]
  },
  {
   "cell_type": "code",
   "execution_count": 62,
   "id": "0c8c9ee1",
   "metadata": {},
   "outputs": [],
   "source": [
    "X = data_baseline.drop(['median_house_value','ocean_proximity'],axis=1)"
   ]
  },
  {
   "cell_type": "code",
   "execution_count": 63,
   "id": "186e8ded",
   "metadata": {},
   "outputs": [
    {
     "name": "stdout",
     "output_type": "stream",
     "text": [
      "Average R2:  0.6363041307108181 Average RMSE:  69494.4332387663 Average MAE: 50700.8826433365\n"
     ]
    }
   ],
   "source": [
    "reg = LinearRegression().fit(X, y)\n",
    "\n",
    "scores = cross_validate(reg, X, y, cv=5, scoring=('r2', 'neg_root_mean_squared_error','neg_mean_absolute_error'))\n",
    "\n",
    "average_r2 = scores['test_r2'].mean()\n",
    "average_rmse = -scores['test_neg_root_mean_squared_error'].mean()\n",
    "average_mae = -scores['test_neg_mean_absolute_error'].mean()\n",
    "print(\"Average R2: \", average_r2, \"Average RMSE: \", average_rmse, \"Average MAE:\", average_mae)"
   ]
  },
  {
   "cell_type": "markdown",
   "id": "f89b79c1",
   "metadata": {},
   "source": [
    "## Iteration 1"
   ]
  },
  {
   "cell_type": "code",
   "execution_count": 64,
   "id": "0317967c",
   "metadata": {},
   "outputs": [],
   "source": [
    "data_iter1=pd.read_csv('data_iter1.csv')"
   ]
  },
  {
   "cell_type": "code",
   "execution_count": 65,
   "id": "f4dee764",
   "metadata": {},
   "outputs": [],
   "source": [
    "X = data_iter1.drop(['median_house_value'],axis=1)\n",
    "y=data_iter1['median_house_value']"
   ]
  },
  {
   "cell_type": "code",
   "execution_count": 68,
   "id": "155638f9",
   "metadata": {},
   "outputs": [
    {
     "name": "stdout",
     "output_type": "stream",
     "text": [
      "Average R2:  0.6321248967054596 Average RMSE:  69870.59689546263 Average MAE: 51151.91355804453\n"
     ]
    }
   ],
   "source": [
    "reg = LinearRegression().fit(X, y)\n",
    "\n",
    "scores = cross_validate(reg, X, y, cv=5, scoring=('r2', 'neg_root_mean_squared_error','neg_mean_absolute_error'))\n",
    "\n",
    "average_r2 = scores['test_r2'].mean()\n",
    "average_rmse = -scores['test_neg_root_mean_squared_error'].mean()\n",
    "average_mae = -scores['test_neg_mean_absolute_error'].mean()\n",
    "print(\"Average R2: \", average_r2, \"// Average RMSE: \", average_rmse, \"// Average MAE:\", average_mae)"
   ]
  },
  {
   "cell_type": "code",
   "execution_count": 69,
   "id": "2b4519fb",
   "metadata": {},
   "outputs": [],
   "source": [
    "#On remarque que le modèle a de moins bonnes performances. Il semblerait que retirer la colonne bedrooms ait impacté negativement\n",
    "#Le modèle. Il faudra donc voir une autre façon de traiter cette colonne."
   ]
  },
  {
   "cell_type": "markdown",
   "id": "90c5970c",
   "metadata": {},
   "source": [
    "## Iteration 2"
   ]
  },
  {
   "cell_type": "code",
   "execution_count": 121,
   "id": "c71d5bb6",
   "metadata": {},
   "outputs": [],
   "source": [
    "data_iter2=pd.read_csv('data_iter2.csv')"
   ]
  },
  {
   "cell_type": "code",
   "execution_count": 122,
   "id": "3dbe1742",
   "metadata": {},
   "outputs": [],
   "source": [
    "X = data_iter2.drop(['median_house_value'],axis=1)\n",
    "y=data_iter2['median_house_value']"
   ]
  },
  {
   "cell_type": "code",
   "execution_count": 123,
   "id": "33a37abb",
   "metadata": {},
   "outputs": [
    {
     "name": "stdout",
     "output_type": "stream",
     "text": [
      "Average R2:  0.6423123790933041 // Average RMSE:  68896.15761606033 // Average MAE: 50068.734467461225\n"
     ]
    }
   ],
   "source": [
    "reg = LinearRegression().fit(X, y)\n",
    "\n",
    "scores = cross_validate(reg, X, y, cv=5, scoring=('r2', 'neg_root_mean_squared_error','neg_mean_absolute_error'))\n",
    "\n",
    "average_r2 = scores['test_r2'].mean()\n",
    "average_rmse = -scores['test_neg_root_mean_squared_error'].mean()\n",
    "average_mae = -scores['test_neg_mean_absolute_error'].mean()\n",
    "print(\"Average R2: \", average_r2, \"// Average RMSE: \", average_rmse, \"// Average MAE:\", average_mae)"
   ]
  },
  {
   "cell_type": "code",
   "execution_count": 84,
   "id": "8af74d55",
   "metadata": {},
   "outputs": [],
   "source": [
    "#Le modèle gagne en performance après l'encodage de la variable qualitative"
   ]
  },
  {
   "cell_type": "markdown",
   "id": "10619750",
   "metadata": {},
   "source": [
    "## Iteration 3"
   ]
  },
  {
   "cell_type": "code",
   "execution_count": 102,
   "id": "f2cf9d9b",
   "metadata": {},
   "outputs": [],
   "source": [
    "data_iter3=pd.read_csv('data_iter3.csv')"
   ]
  },
  {
   "cell_type": "code",
   "execution_count": 103,
   "id": "6bb7761b",
   "metadata": {},
   "outputs": [],
   "source": [
    "X = data_iter3.drop(['median_house_value'],axis=1)\n",
    "y=data_iter3['median_house_value']"
   ]
  },
  {
   "cell_type": "code",
   "execution_count": 108,
   "id": "3a9b1e98",
   "metadata": {},
   "outputs": [
    {
     "name": "stdout",
     "output_type": "stream",
     "text": [
      "Average R2:  0.6421881685556471 // Average RMSE:  68907.95688603455 // Average MAE: 50106.793836737634\n"
     ]
    }
   ],
   "source": [
    "reg = LinearRegression().fit(X, y)\n",
    "\n",
    "scores = cross_validate(reg, X, y, cv=5, scoring=('r2', 'neg_root_mean_squared_error','neg_mean_absolute_error'))\n",
    "\n",
    "average_r2 = scores['test_r2'].mean()\n",
    "average_rmse = -scores['test_neg_root_mean_squared_error'].mean()\n",
    "average_mae = -scores['test_neg_mean_absolute_error'].mean()\n",
    "print(\"Average R2: \", average_r2, \"// Average RMSE: \", average_rmse, \"// Average MAE:\", average_mae)"
   ]
  },
  {
   "cell_type": "code",
   "execution_count": 107,
   "id": "01481f5c",
   "metadata": {},
   "outputs": [],
   "source": [
    "#On obtient des résultats quasi-similaires, très légèrement en dessous de l'itération précédente.\n",
    "#C'est peut-être donc une mauvaise piste"
   ]
  },
  {
   "cell_type": "markdown",
   "id": "16d51f3e",
   "metadata": {},
   "source": [
    "## Iteration 4"
   ]
  },
  {
   "cell_type": "code",
   "execution_count": 109,
   "id": "58a21136",
   "metadata": {},
   "outputs": [],
   "source": [
    "data_iter4=pd.read_csv('data_iter4.csv')"
   ]
  },
  {
   "cell_type": "code",
   "execution_count": 110,
   "id": "ae234e9b",
   "metadata": {},
   "outputs": [],
   "source": [
    "X = data_iter4.drop(['median_house_value'],axis=1)\n",
    "y=data_iter4['median_house_value']"
   ]
  },
  {
   "cell_type": "code",
   "execution_count": 111,
   "id": "c22553ee",
   "metadata": {},
   "outputs": [
    {
     "name": "stdout",
     "output_type": "stream",
     "text": [
      "Average R2:  0.6167969157984367 // Average RMSE:  59162.231002672146 // Average MAE: 43411.20537170415\n"
     ]
    }
   ],
   "source": [
    "reg = LinearRegression().fit(X, y)\n",
    "\n",
    "scores = cross_validate(reg, X, y, cv=5, scoring=('r2', 'neg_root_mean_squared_error','neg_mean_absolute_error'))\n",
    "\n",
    "average_r2 = scores['test_r2'].mean()\n",
    "average_rmse = -scores['test_neg_root_mean_squared_error'].mean()\n",
    "average_mae = -scores['test_neg_mean_absolute_error'].mean()\n",
    "print(\"Average R2: \", average_r2, \"// Average RMSE: \", average_rmse, \"// Average MAE:\", average_mae)"
   ]
  },
  {
   "cell_type": "code",
   "execution_count": 107,
   "id": "f78c46d5",
   "metadata": {},
   "outputs": [],
   "source": [
    "#On obtient des résultats bien différents. Le R2 a beaucoup diminué, ce qui est une mauvaise nouvelle,\n",
    "#Mais les RMSE et MAE ont beaucoup diminué, ce qui ets positif. On peut dire qu'avec cette modification, \n",
    "#notre modèle fais plus d'erreurs, mais fait des erreurs moins grandes.\n",
    "\n",
    "#C'est donc un résultat assez encourageant. Peut-être qu'en trouvant une autre façon de traiter ces outliers, on pourrait\n",
    "#améliorer toutes nos métriques"
   ]
  },
  {
   "cell_type": "markdown",
   "id": "4f9233ff",
   "metadata": {},
   "source": [
    "## Iteration 5"
   ]
  },
  {
   "cell_type": "code",
   "execution_count": 114,
   "id": "72b59d20",
   "metadata": {},
   "outputs": [],
   "source": [
    "data_iter5=pd.read_csv('data_iter5.csv')"
   ]
  },
  {
   "cell_type": "code",
   "execution_count": 115,
   "id": "93589a4a",
   "metadata": {},
   "outputs": [],
   "source": [
    "X = data_iter5.drop(['median_house_value'],axis=1)\n",
    "y=data_iter5['median_house_value']"
   ]
  },
  {
   "cell_type": "code",
   "execution_count": 117,
   "id": "18ecae30",
   "metadata": {},
   "outputs": [
    {
     "name": "stdout",
     "output_type": "stream",
     "text": [
      "Average R2:  0.6462588361990826 // Average RMSE:  68514.25032590503 // Average MAE: 49721.11821678291\n"
     ]
    }
   ],
   "source": [
    "reg = LinearRegression().fit(X, y)\n",
    "\n",
    "scores = cross_validate(reg, X, y, cv=5, scoring=('r2', 'neg_root_mean_squared_error','neg_mean_absolute_error'))\n",
    "\n",
    "average_r2 = scores['test_r2'].mean()\n",
    "average_rmse = -scores['test_neg_root_mean_squared_error'].mean()\n",
    "average_mae = -scores['test_neg_mean_absolute_error'].mean()\n",
    "print(\"Average R2: \", average_r2, \"// Average RMSE: \", average_rmse, \"// Average MAE:\", average_mae)"
   ]
  },
  {
   "cell_type": "code",
   "execution_count": 138,
   "id": "43aa7400",
   "metadata": {},
   "outputs": [],
   "source": [
    "#Meilleur résultat en traitant les outliers en bins. à garder"
   ]
  },
  {
   "cell_type": "markdown",
   "id": "2f4922c3",
   "metadata": {},
   "source": [
    "## Iteration 6"
   ]
  },
  {
   "cell_type": "code",
   "execution_count": 139,
   "id": "7d18d010",
   "metadata": {},
   "outputs": [],
   "source": [
    "data_iter6_log=pd.read_csv('data_iter6_log.csv')"
   ]
  },
  {
   "cell_type": "code",
   "execution_count": 140,
   "id": "d7ea2310",
   "metadata": {},
   "outputs": [],
   "source": [
    "X = data_iter6_log.drop(['median_house_value'],axis=1)\n",
    "y=data_iter6_log['median_house_value']"
   ]
  },
  {
   "cell_type": "code",
   "execution_count": 141,
   "id": "f1bf7f17",
   "metadata": {},
   "outputs": [
    {
     "name": "stdout",
     "output_type": "stream",
     "text": [
      " R2:  0.6940770927481404 //  RMSE:  65520.571793641655 //  MAE: 45838.75451350636\n"
     ]
    }
   ],
   "source": [
    "reg = LinearRegression().fit(X, y)\n",
    "\n",
    "scores = cross_validate(reg, X, y, cv=5)\n",
    "predictions = reg.predict(X)\n",
    "predictions_original_scale = np.exp(predictions)\n",
    "y_original_scale = np.exp(y)\n",
    "average_r2=scores['test_score'].mean()\n",
    "rmse = np.sqrt(mean_squared_error(y_original_scale, predictions_original_scale))\n",
    "mae = mean_absolute_error(y_original_scale, predictions_original_scale)\n",
    "print(\" R2: \", average_r2, \"//  RMSE: \", rmse, \"//  MAE:\", mae)"
   ]
  },
  {
   "cell_type": "code",
   "execution_count": 107,
   "id": "27d8840a",
   "metadata": {},
   "outputs": [],
   "source": [
    "#C'est une très bonne amélioration du modèle. On va donc la favoriser au box-cox"
   ]
  },
  {
   "cell_type": "code",
   "execution_count": 128,
   "id": "9243a016",
   "metadata": {},
   "outputs": [],
   "source": [
    "data_iter6_log=pd.read_csv('data_iter6_log.csv')"
   ]
  },
  {
   "cell_type": "code",
   "execution_count": 129,
   "id": "c6663482",
   "metadata": {},
   "outputs": [],
   "source": [
    "X = data_iter6_log.drop(['median_house_value'],axis=1)\n",
    "y=data_iter6_log['median_house_value']"
   ]
  },
  {
   "cell_type": "code",
   "execution_count": 130,
   "id": "1846ad9b",
   "metadata": {},
   "outputs": [
    {
     "name": "stdout",
     "output_type": "stream",
     "text": [
      " R2:  0.6901168651421175 //  RMSE:  66526.48181120909 //  MAE: 46223.85786860529\n"
     ]
    }
   ],
   "source": [
    "reg = LinearRegression().fit(X, y)\n",
    "\n",
    "scores = cross_validate(reg, X, y, cv=5)\n",
    "predictions = reg.predict(X)\n",
    "predictions_original_scale = np.exp(predictions)\n",
    "y_original_scale = np.exp(y)\n",
    "average_r2=scores['test_score'].mean()\n",
    "rmse = np.sqrt(mean_squared_error(y_original_scale, predictions_original_scale))\n",
    "mae = mean_absolute_error(y_original_scale, predictions_original_scale)\n",
    "print(\" R2: \", average_r2, \"//  RMSE: \", rmse, \"//  MAE:\", mae)"
   ]
  },
  {
   "cell_type": "markdown",
   "id": "1a65a517",
   "metadata": {},
   "source": [
    "## Iteration 7"
   ]
  },
  {
   "cell_type": "code",
   "execution_count": 142,
   "id": "398eea8c",
   "metadata": {},
   "outputs": [],
   "source": [
    "data_iter7_log=pd.read_csv('data_iter7_log.csv')"
   ]
  },
  {
   "cell_type": "code",
   "execution_count": 143,
   "id": "8bb7fa22",
   "metadata": {},
   "outputs": [],
   "source": [
    "X = data_iter7_log.drop(['median_house_value'],axis=1)\n",
    "y=data_iter7_log['median_house_value']"
   ]
  },
  {
   "cell_type": "code",
   "execution_count": 148,
   "id": "2b705ad9",
   "metadata": {},
   "outputs": [
    {
     "name": "stdout",
     "output_type": "stream",
     "text": [
      " R2:  0.7068596784243815 //  RMSE:  63740.94139671754 //  MAE: 44609.07982362292\n"
     ]
    }
   ],
   "source": [
    "reg = LinearRegression().fit(X, y)\n",
    "\n",
    "scores = cross_validate(reg, X, y, cv=5)\n",
    "predictions = reg.predict(X)\n",
    "predictions_original_scale = np.exp(predictions)\n",
    "y_original_scale = np.exp(y)\n",
    "average_r2=scores['test_score'].mean()\n",
    "rmse = np.sqrt(mean_squared_error(y_original_scale, predictions_original_scale))\n",
    "mae = mean_absolute_error(y_original_scale, predictions_original_scale)\n",
    "print(\" R2: \", average_r2, \"//  RMSE: \", rmse, \"//  MAE:\", mae)"
   ]
  },
  {
   "cell_type": "code",
   "execution_count": null,
   "id": "ab453857",
   "metadata": {},
   "outputs": [],
   "source": [
    "#On obtient la meilleure augmentation de R2 jusqu'ici, avec la transformation du log."
   ]
  },
  {
   "cell_type": "markdown",
   "id": "4e5fcd15",
   "metadata": {},
   "source": [
    "## Essai d'un autre modèle : random forest"
   ]
  },
  {
   "cell_type": "code",
   "execution_count": 149,
   "id": "58d509dc",
   "metadata": {},
   "outputs": [
    {
     "data": {
      "text/html": [
       "<style>#sk-container-id-3 {color: black;background-color: white;}#sk-container-id-3 pre{padding: 0;}#sk-container-id-3 div.sk-toggleable {background-color: white;}#sk-container-id-3 label.sk-toggleable__label {cursor: pointer;display: block;width: 100%;margin-bottom: 0;padding: 0.3em;box-sizing: border-box;text-align: center;}#sk-container-id-3 label.sk-toggleable__label-arrow:before {content: \"▸\";float: left;margin-right: 0.25em;color: #696969;}#sk-container-id-3 label.sk-toggleable__label-arrow:hover:before {color: black;}#sk-container-id-3 div.sk-estimator:hover label.sk-toggleable__label-arrow:before {color: black;}#sk-container-id-3 div.sk-toggleable__content {max-height: 0;max-width: 0;overflow: hidden;text-align: left;background-color: #f0f8ff;}#sk-container-id-3 div.sk-toggleable__content pre {margin: 0.2em;color: black;border-radius: 0.25em;background-color: #f0f8ff;}#sk-container-id-3 input.sk-toggleable__control:checked~div.sk-toggleable__content {max-height: 200px;max-width: 100%;overflow: auto;}#sk-container-id-3 input.sk-toggleable__control:checked~label.sk-toggleable__label-arrow:before {content: \"▾\";}#sk-container-id-3 div.sk-estimator input.sk-toggleable__control:checked~label.sk-toggleable__label {background-color: #d4ebff;}#sk-container-id-3 div.sk-label input.sk-toggleable__control:checked~label.sk-toggleable__label {background-color: #d4ebff;}#sk-container-id-3 input.sk-hidden--visually {border: 0;clip: rect(1px 1px 1px 1px);clip: rect(1px, 1px, 1px, 1px);height: 1px;margin: -1px;overflow: hidden;padding: 0;position: absolute;width: 1px;}#sk-container-id-3 div.sk-estimator {font-family: monospace;background-color: #f0f8ff;border: 1px dotted black;border-radius: 0.25em;box-sizing: border-box;margin-bottom: 0.5em;}#sk-container-id-3 div.sk-estimator:hover {background-color: #d4ebff;}#sk-container-id-3 div.sk-parallel-item::after {content: \"\";width: 100%;border-bottom: 1px solid gray;flex-grow: 1;}#sk-container-id-3 div.sk-label:hover label.sk-toggleable__label {background-color: #d4ebff;}#sk-container-id-3 div.sk-serial::before {content: \"\";position: absolute;border-left: 1px solid gray;box-sizing: border-box;top: 0;bottom: 0;left: 50%;z-index: 0;}#sk-container-id-3 div.sk-serial {display: flex;flex-direction: column;align-items: center;background-color: white;padding-right: 0.2em;padding-left: 0.2em;position: relative;}#sk-container-id-3 div.sk-item {position: relative;z-index: 1;}#sk-container-id-3 div.sk-parallel {display: flex;align-items: stretch;justify-content: center;background-color: white;position: relative;}#sk-container-id-3 div.sk-item::before, #sk-container-id-3 div.sk-parallel-item::before {content: \"\";position: absolute;border-left: 1px solid gray;box-sizing: border-box;top: 0;bottom: 0;left: 50%;z-index: -1;}#sk-container-id-3 div.sk-parallel-item {display: flex;flex-direction: column;z-index: 1;position: relative;background-color: white;}#sk-container-id-3 div.sk-parallel-item:first-child::after {align-self: flex-end;width: 50%;}#sk-container-id-3 div.sk-parallel-item:last-child::after {align-self: flex-start;width: 50%;}#sk-container-id-3 div.sk-parallel-item:only-child::after {width: 0;}#sk-container-id-3 div.sk-dashed-wrapped {border: 1px dashed gray;margin: 0 0.4em 0.5em 0.4em;box-sizing: border-box;padding-bottom: 0.4em;background-color: white;}#sk-container-id-3 div.sk-label label {font-family: monospace;font-weight: bold;display: inline-block;line-height: 1.2em;}#sk-container-id-3 div.sk-label-container {text-align: center;}#sk-container-id-3 div.sk-container {/* jupyter's `normalize.less` sets `[hidden] { display: none; }` but bootstrap.min.css set `[hidden] { display: none !important; }` so we also need the `!important` here to be able to override the default hidden behavior on the sphinx rendered scikit-learn.org. See: https://github.com/scikit-learn/scikit-learn/issues/21755 */display: inline-block !important;position: relative;}#sk-container-id-3 div.sk-text-repr-fallback {display: none;}</style><div id=\"sk-container-id-3\" class=\"sk-top-container\"><div class=\"sk-text-repr-fallback\"><pre>RandomForestRegressor(random_state=0)</pre><b>In a Jupyter environment, please rerun this cell to show the HTML representation or trust the notebook. <br />On GitHub, the HTML representation is unable to render, please try loading this page with nbviewer.org.</b></div><div class=\"sk-container\" hidden><div class=\"sk-item\"><div class=\"sk-estimator sk-toggleable\"><input class=\"sk-toggleable__control sk-hidden--visually\" id=\"sk-estimator-id-3\" type=\"checkbox\" checked><label for=\"sk-estimator-id-3\" class=\"sk-toggleable__label sk-toggleable__label-arrow\">RandomForestRegressor</label><div class=\"sk-toggleable__content\"><pre>RandomForestRegressor(random_state=0)</pre></div></div></div></div></div>"
      ],
      "text/plain": [
       "RandomForestRegressor(random_state=0)"
      ]
     },
     "execution_count": 149,
     "metadata": {},
     "output_type": "execute_result"
    }
   ],
   "source": [
    "from sklearn.ensemble import RandomForestRegressor\n",
    "\n",
    "forest_regressor = RandomForestRegressor(n_estimators = 100, random_state = 0)\n",
    "forest_regressor.fit(X, y)"
   ]
  },
  {
   "cell_type": "code",
   "execution_count": 150,
   "id": "d1e30f2a",
   "metadata": {
    "scrolled": true
   },
   "outputs": [
    {
     "name": "stdout",
     "output_type": "stream",
     "text": [
      " R2:  0.8421088433733603 //  RMSE:  18577.02011195424 //  MAE: 11122.446061741979\n"
     ]
    }
   ],
   "source": [
    "scores = cross_validate(forest_regressor, X, y, cv=7)\n",
    "predictions = forest_regressor.predict(X)\n",
    "predictions_original_scale = np.exp(predictions)\n",
    "y_original_scale = np.exp(y)\n",
    "average_r2=scores['test_score'].mean()\n",
    "rmse = np.sqrt(mean_squared_error(y_original_scale, predictions_original_scale))\n",
    "mae = mean_absolute_error(y_original_scale, predictions_original_scale)\n",
    "print(\" R2: \", average_r2, \"//  RMSE: \", rmse, \"//  MAE:\", mae)"
   ]
  },
  {
   "cell_type": "code",
   "execution_count": null,
   "id": "d4c3926f",
   "metadata": {},
   "outputs": [],
   "source": []
  }
 ],
 "metadata": {
  "kernelspec": {
   "display_name": "Python 3 (ipykernel)",
   "language": "python",
   "name": "python3"
  },
  "language_info": {
   "codemirror_mode": {
    "name": "ipython",
    "version": 3
   },
   "file_extension": ".py",
   "mimetype": "text/x-python",
   "name": "python",
   "nbconvert_exporter": "python",
   "pygments_lexer": "ipython3",
   "version": "3.8.12"
  },
  "toc": {
   "base_numbering": 1,
   "nav_menu": {},
   "number_sections": true,
   "sideBar": true,
   "skip_h1_title": false,
   "title_cell": "Table of Contents",
   "title_sidebar": "Contents",
   "toc_cell": false,
   "toc_position": {},
   "toc_section_display": true,
   "toc_window_display": false
  }
 },
 "nbformat": 4,
 "nbformat_minor": 5
}
