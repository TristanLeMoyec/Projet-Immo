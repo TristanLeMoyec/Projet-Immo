{
 "cells": [
  {
   "cell_type": "markdown",
   "id": "d602d904",
   "metadata": {},
   "source": [
    "## Imports"
   ]
  },
  {
   "cell_type": "code",
   "execution_count": 11,
   "id": "9d2acafc",
   "metadata": {},
   "outputs": [],
   "source": [
    "import pandas as pd\n",
    "import numpy as np\n",
    "import seaborn as sns\n",
    "import warnings\n",
    "from scipy import stats\n",
    "import pandas as pd\n",
    "import plotly.express as px\n",
    "import matplotlib as plt\n",
    "from sklearn.impute import KNNImputer\n",
    "from sklearn.linear_model import LinearRegression\n",
    "from sklearn.metrics import r2_score, mean_squared_error, mean_absolute_error\n",
    "from sklearn.model_selection import cross_validate\n",
    "import pickle\n",
    "warnings.simplefilter(action=\"ignore\")"
   ]
  },
  {
   "cell_type": "code",
   "execution_count": 2,
   "id": "64fe3256",
   "metadata": {},
   "outputs": [],
   "source": [
    "#Chargez le dataframe\n",
    "data=pd.read_csv('data.csv')"
   ]
  },
  {
   "cell_type": "code",
   "execution_count": 13,
   "id": "23b95fc3",
   "metadata": {},
   "outputs": [],
   "source": [
    "#Import des modèles\n",
    "linear_regression = pickle.load(open('linear_regression.sav', 'rb'))\n",
    "random_forest = pickle.load(open('random_forest.sav', 'rb'))"
   ]
  },
  {
   "cell_type": "markdown",
   "id": "69def47b",
   "metadata": {},
   "source": [
    "## Transformations"
   ]
  },
  {
   "cell_type": "code",
   "execution_count": null,
   "id": "19eb9cde",
   "metadata": {},
   "outputs": [],
   "source": [
    "#Imputez les valures nulles\n",
    "imputer = KNNImputer()\n",
    "\n",
    "# Convert the 1D array to a 2D array with a single column\n",
    "total_bedrooms = data['total_bedrooms'].values.reshape(-1, 1)\n",
    "\n",
    "# Impute missing values using KNN imputation\n",
    "imputed_bedrooms = imputer.fit_transform(total_bedrooms)\n",
    "\n",
    "# Replace the original column with the imputed column\n",
    "data['total_bedrooms'] = imputed_bedrooms"
   ]
  },
  {
   "cell_type": "code",
   "execution_count": null,
   "id": "ea931b09",
   "metadata": {},
   "outputs": [],
   "source": [
    "#Bin des âges pour rêgler le problème d'outliers\n",
    "\n",
    "data['binned_age']=pd.cut(data['housing_median_age'],\n",
    "                        bins = [0,10,20,30,40,50,np.inf], \n",
    "                        labels = ['[0-10]','[10-20]','[20-30]','[30-40]','[40-50]','[50+]'])\n",
    "data = data.drop(data[['housing_median_age']],axis=1)\n",
    "data"
   ]
  },
  {
   "cell_type": "code",
   "execution_count": null,
   "id": "f3ea14bb",
   "metadata": {},
   "outputs": [],
   "source": [
    "#Encodage des variables qualitatives\n",
    "\n",
    "#creating instance of one-hot-encoder\n",
    "encoder = OneHotEncoder(handle_unknown='ignore')\n",
    "\n",
    "#perform one-hot encoding on 'team' column \n",
    "encoder_df = pd.DataFrame(encoder.fit_transform(data[['ocean_proximity','binned_age']]).toarray())\n",
    "\n",
    "#merge one-hot encoded columns back with original DataFrame\n",
    "data = data.join(encoder_df)\n",
    "\n",
    "#Drop the now unnecessary columns\n",
    "data=data.drop(['ocean_proximity','binned_age'],axis=1)"
   ]
  },
  {
   "cell_type": "code",
   "execution_count": null,
   "id": "671473d7",
   "metadata": {},
   "outputs": [],
   "source": [
    "columns = ['total_rooms','population','households','median_income','median_house_value','total_bedrooms']"
   ]
  },
  {
   "cell_type": "code",
   "execution_count": null,
   "id": "fd646073",
   "metadata": {},
   "outputs": [],
   "source": [
    "#Creation de colonne outlier pour ne pas perdre l'information avec le log\n",
    "data['outlier'] = 0\n",
    "for col in data[columns].columns:\n",
    "    Q1 = data[col].quantile(0.25)\n",
    "    Q3 = data[col].quantile(0.75)\n",
    "    IQR = Q3 - Q1\n",
    "    lower_bound = Q1 - 1.5 * IQR\n",
    "    upper_bound = Q3 + 1.5 * IQR\n",
    "    data.loc[(data[col] < lower_bound) | (data[col] > upper_bound), 'outlier'] = 1"
   ]
  },
  {
   "cell_type": "code",
   "execution_count": null,
   "id": "1f2dfe00",
   "metadata": {},
   "outputs": [],
   "source": [
    "#Transformation log\n",
    "data_log = np.log(abs(data[columns].values))\n",
    "data[columns]=data_log"
   ]
  },
  {
   "cell_type": "markdown",
   "id": "9fd0961a",
   "metadata": {},
   "source": [
    "## Predictions"
   ]
  },
  {
   "cell_type": "code",
   "execution_count": null,
   "id": "908fc580",
   "metadata": {},
   "outputs": [],
   "source": [
    "X = data.drop(['median_house_value'],axis=1)\n",
    "y=data['median_house_value']"
   ]
  },
  {
   "cell_type": "markdown",
   "id": "f5201237",
   "metadata": {},
   "source": [
    "### Linear Regression"
   ]
  },
  {
   "cell_type": "code",
   "execution_count": null,
   "id": "8169794d",
   "metadata": {},
   "outputs": [],
   "source": [
    "y_pred = linear_regression.predict(X)\n",
    "y_pred_original_scale = np.exp(predictions)"
   ]
  },
  {
   "cell_type": "markdown",
   "id": "8d3ce767",
   "metadata": {},
   "source": [
    "### Random Forest"
   ]
  },
  {
   "cell_type": "code",
   "execution_count": null,
   "id": "3966533c",
   "metadata": {},
   "outputs": [],
   "source": [
    "y_pred = linear_regression.predict(X)\n",
    "random_forest = np.exp(predictions)"
   ]
  }
 ],
 "metadata": {
  "kernelspec": {
   "display_name": "Python 3 (ipykernel)",
   "language": "python",
   "name": "python3"
  },
  "language_info": {
   "codemirror_mode": {
    "name": "ipython",
    "version": 3
   },
   "file_extension": ".py",
   "mimetype": "text/x-python",
   "name": "python",
   "nbconvert_exporter": "python",
   "pygments_lexer": "ipython3",
   "version": "3.8.12"
  },
  "toc": {
   "base_numbering": 1,
   "nav_menu": {},
   "number_sections": true,
   "sideBar": true,
   "skip_h1_title": false,
   "title_cell": "Table of Contents",
   "title_sidebar": "Contents",
   "toc_cell": false,
   "toc_position": {},
   "toc_section_display": true,
   "toc_window_display": false
  }
 },
 "nbformat": 4,
 "nbformat_minor": 5
}
